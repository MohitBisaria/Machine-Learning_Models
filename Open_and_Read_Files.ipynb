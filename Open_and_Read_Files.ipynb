{
  "nbformat": 4,
  "nbformat_minor": 0,
  "metadata": {
    "colab": {
      "name": "Open and Read Files",
      "provenance": []
    },
    "kernelspec": {
      "name": "python3",
      "display_name": "Python 3"
    }
  },
  "cells": [
    {
      "cell_type": "code",
      "metadata": {
        "id": "_jcK3D4oVKZb",
        "colab_type": "code",
        "colab": {}
      },
      "source": [
        "citytemp=open('/content/citytemp.csv','r',encoding='UTF-8')\n",
        "\n"
      ],
      "execution_count": 50,
      "outputs": []
    },
    {
      "cell_type": "code",
      "metadata": {
        "id": "IafTFdcfW3wL",
        "colab_type": "code",
        "colab": {}
      },
      "source": [
        "cityWrite=open('citywrite.csv','a')"
      ],
      "execution_count": 51,
      "outputs": []
    },
    {
      "cell_type": "code",
      "metadata": {
        "id": "A9KWCiiAX1-b",
        "colab_type": "code",
        "colab": {
          "base_uri": "https://localhost:8080/",
          "height": 35
        },
        "outputId": "2d3b2ba5-04d4-47f4-b2af-e42b9a94ebfb"
      },
      "source": [
        "rec1=citytemp.readline()\n",
        "rec1"
      ],
      "execution_count": 52,
      "outputs": [
        {
          "output_type": "execute_result",
          "data": {
            "application/vnd.google.colaboratory.intrinsic": {
              "type": "string"
            },
            "text/plain": [
              "'Chicago,85,F\\n'"
            ]
          },
          "metadata": {
            "tags": []
          },
          "execution_count": 52
        }
      ]
    },
    {
      "cell_type": "code",
      "metadata": {
        "id": "rIeOMExWX_RS",
        "colab_type": "code",
        "colab": {
          "base_uri": "https://localhost:8080/",
          "height": 34
        },
        "outputId": "59ab3db9-959a-447e-e576-ea8ba6eae5c0"
      },
      "source": [
        "city,temperature,unit=rec1.split(',')\n",
        "city,temperature,unit"
      ],
      "execution_count": 53,
      "outputs": [
        {
          "output_type": "execute_result",
          "data": {
            "text/plain": [
              "('Chicago', '85', 'F\\n')"
            ]
          },
          "metadata": {
            "tags": []
          },
          "execution_count": 53
        }
      ]
    },
    {
      "cell_type": "code",
      "metadata": {
        "id": "8zNhZ28QdYao",
        "colab_type": "code",
        "colab": {
          "base_uri": "https://localhost:8080/",
          "height": 34
        },
        "outputId": "2d12866f-1865-47ae-b5a9-899fbc88b76e"
      },
      "source": [
        "type(temperature)"
      ],
      "execution_count": 54,
      "outputs": [
        {
          "output_type": "execute_result",
          "data": {
            "text/plain": [
              "str"
            ]
          },
          "metadata": {
            "tags": []
          },
          "execution_count": 54
        }
      ]
    },
    {
      "cell_type": "code",
      "metadata": {
        "id": "7UVPGHY5Y9sS",
        "colab_type": "code",
        "colab": {}
      },
      "source": [
        "#Change the temp format\n",
        "temperature=(int(temperature)-32) * 5/9"
      ],
      "execution_count": 55,
      "outputs": []
    },
    {
      "cell_type": "code",
      "metadata": {
        "id": "Bw6xJQWBd4bl",
        "colab_type": "code",
        "colab": {
          "base_uri": "https://localhost:8080/",
          "height": 34
        },
        "outputId": "dad95cb4-5499-49b6-8e85-5350a939e9a0"
      },
      "source": [
        "cityWrite.write(rec1)"
      ],
      "execution_count": 56,
      "outputs": [
        {
          "output_type": "execute_result",
          "data": {
            "text/plain": [
              "13"
            ]
          },
          "metadata": {
            "tags": []
          },
          "execution_count": 56
        }
      ]
    },
    {
      "cell_type": "code",
      "metadata": {
        "id": "m-GjPTn5eQGT",
        "colab_type": "code",
        "colab": {}
      },
      "source": [
        "cityWrite.close()"
      ],
      "execution_count": 57,
      "outputs": []
    },
    {
      "cell_type": "code",
      "metadata": {
        "id": "zGJIvFAWfT_m",
        "colab_type": "code",
        "colab": {
          "base_uri": "https://localhost:8080/",
          "height": 638
        },
        "outputId": "48abf9be-008e-4fe3-dee7-8101c7627588"
      },
      "source": [
        "citytemp.readlines()"
      ],
      "execution_count": 58,
      "outputs": [
        {
          "output_type": "execute_result",
          "data": {
            "text/plain": [
              "['Chicago,89,F\\n',\n",
              " 'Chicago,70,F\\n',\n",
              " 'Chicago,80,F\\n',\n",
              " 'Chicago,88,F\\n',\n",
              " 'Chicago,72,F\\n',\n",
              " 'Chicago,76,F\\n',\n",
              " 'Chicago,74,F\\n',\n",
              " 'Chicago,70,F\\n',\n",
              " 'San Francisco,61,F\\n',\n",
              " 'San Francisco,52,F\\n',\n",
              " 'San Francisco,65,F\\n',\n",
              " 'San Francisco,57,F\\n',\n",
              " 'San Francisco,51,F\\n',\n",
              " 'San Francisco,61,F\\n',\n",
              " 'San Francisco,55,F\\n',\n",
              " 'London,15,C\\n',\n",
              " 'London,10,C\\n',\n",
              " 'London,18,C\\n',\n",
              " 'London,19,C\\n',\n",
              " 'London,17,C\\n',\n",
              " 'London,18,C\\n',\n",
              " 'London,11,C\\n',\n",
              " 'Delhi,30,C\\n',\n",
              " 'Delhi,23,C\\n',\n",
              " 'Delhi,27,C\\n',\n",
              " 'Delhi,21,C\\n',\n",
              " 'Delhi,29,C\\n',\n",
              " 'Delhi,22,C\\n',\n",
              " 'Delhi,28,C\\n',\n",
              " 'Delhi,20,C\\n',\n",
              " 'Sydney,32,C\\n',\n",
              " 'Sydney,27,C\\n',\n",
              " 'Sydney,82,F\\n',\n",
              " 'Sydney,25,C\\n',\n",
              " 'Sydney,81,F\\n',\n",
              " 'Sydney,76,F\\n',\n",
              " 'Sydney,20,C\\n']"
            ]
          },
          "metadata": {
            "tags": []
          },
          "execution_count": 58
        }
      ]
    },
    {
      "cell_type": "code",
      "metadata": {
        "id": "dc_zDP1dezma",
        "colab_type": "code",
        "colab": {
          "base_uri": "https://localhost:8080/",
          "height": 34
        },
        "outputId": "50be18c9-9823-4e2c-8eb0-44e700543f17"
      },
      "source": [
        "#seek to restore the for loop\n",
        "citytemp.seek(0)"
      ],
      "execution_count": 59,
      "outputs": [
        {
          "output_type": "execute_result",
          "data": {
            "text/plain": [
              "0"
            ]
          },
          "metadata": {
            "tags": []
          },
          "execution_count": 59
        }
      ]
    },
    {
      "cell_type": "code",
      "metadata": {
        "id": "AC0zIb9ohN6Q",
        "colab_type": "code",
        "colab": {
          "base_uri": "https://localhost:8080/",
          "height": 1000
        },
        "outputId": "14343bf3-b80d-49bb-e7f6-f9c492366c89"
      },
      "source": [
        "for records in citytemp:\n",
        "  #records=records.rstrip('\\n')\n",
        "  print(records)"
      ],
      "execution_count": 60,
      "outputs": [
        {
          "output_type": "stream",
          "text": [
            "Chicago,85,F\n",
            "\n",
            "Chicago,89,F\n",
            "\n",
            "Chicago,70,F\n",
            "\n",
            "Chicago,80,F\n",
            "\n",
            "Chicago,88,F\n",
            "\n",
            "Chicago,72,F\n",
            "\n",
            "Chicago,76,F\n",
            "\n",
            "Chicago,74,F\n",
            "\n",
            "Chicago,70,F\n",
            "\n",
            "San Francisco,61,F\n",
            "\n",
            "San Francisco,52,F\n",
            "\n",
            "San Francisco,65,F\n",
            "\n",
            "San Francisco,57,F\n",
            "\n",
            "San Francisco,51,F\n",
            "\n",
            "San Francisco,61,F\n",
            "\n",
            "San Francisco,55,F\n",
            "\n",
            "London,15,C\n",
            "\n",
            "London,10,C\n",
            "\n",
            "London,18,C\n",
            "\n",
            "London,19,C\n",
            "\n",
            "London,17,C\n",
            "\n",
            "London,18,C\n",
            "\n",
            "London,11,C\n",
            "\n",
            "Delhi,30,C\n",
            "\n",
            "Delhi,23,C\n",
            "\n",
            "Delhi,27,C\n",
            "\n",
            "Delhi,21,C\n",
            "\n",
            "Delhi,29,C\n",
            "\n",
            "Delhi,22,C\n",
            "\n",
            "Delhi,28,C\n",
            "\n",
            "Delhi,20,C\n",
            "\n",
            "Sydney,32,C\n",
            "\n",
            "Sydney,27,C\n",
            "\n",
            "Sydney,82,F\n",
            "\n",
            "Sydney,25,C\n",
            "\n",
            "Sydney,81,F\n",
            "\n",
            "Sydney,76,F\n",
            "\n",
            "Sydney,20,C\n",
            "\n"
          ],
          "name": "stdout"
        }
      ]
    }
  ]
}