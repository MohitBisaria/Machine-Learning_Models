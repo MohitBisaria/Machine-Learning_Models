{
  "nbformat": 4,
  "nbformat_minor": 0,
  "metadata": {
    "colab": {
      "name": "Regularization, Ridge and Lasso",
      "provenance": [],
      "toc_visible": true
    },
    "kernelspec": {
      "name": "python3",
      "display_name": "Python 3"
    }
  },
  "cells": [
    {
      "cell_type": "code",
      "metadata": {
        "id": "zi-90xXvKi_e",
        "colab_type": "code",
        "colab": {}
      },
      "source": [
        "import pandas as pd\n",
        "dataset=pd.read_csv('/content/ridge.csv')\n",
        "df=dataset.copy()\n"
      ],
      "execution_count": 0,
      "outputs": []
    },
    {
      "cell_type": "code",
      "metadata": {
        "id": "WF5Ut1VWVNze",
        "colab_type": "code",
        "colab": {}
      },
      "source": [
        "X=df.iloc[:,:-1]\n",
        "Y=df.iloc[:,-1]"
      ],
      "execution_count": 0,
      "outputs": []
    },
    {
      "cell_type": "markdown",
      "metadata": {
        "id": "4vckEuURVfjn",
        "colab_type": "text"
      },
      "source": [
        "**import ridge regression class**"
      ]
    },
    {
      "cell_type": "code",
      "metadata": {
        "id": "oRIqJ8AYVXnL",
        "colab_type": "code",
        "outputId": "e0919ba1-5419-4a49-aa6c-7afcf6e06c9d",
        "colab": {
          "base_uri": "https://localhost:8080/",
          "height": 297
        }
      },
      "source": [
        "\n",
        "from sklearn.linear_model import Ridge\n",
        "x_plt=[0,1,2,3,4]\n",
        "ridge_l=[0,1,10,100]\n",
        "for i,l in enumerate(ridge_l):\n",
        "  ridge=Ridge(alpha=l)\n",
        "  ridge.fit(X,Y)\n",
        "  ridge_coeff=ridge.coef_\n",
        "  #ridge_coeff\n",
        "  ridge_intercept=ridge.intercept_\n",
        "  #ridge_intercept\n",
        "  from pandas import DataFrame\n",
        "  y_plt=ridge.predict(pd.DataFrame(x_plt))\n",
        "  #y_plt\n",
        "  import matplotlib.pyplot as plt\n",
        "  plt.figure(1)\n",
        "  plt.subplot(2,2,i+1)\n",
        "  plt.plot(x_plt,y_plt)\n",
        "  plt.ylim(ymin=0,ymax=9)\n",
        "  plt.xlim(xmin=0,xmax=6)\n",
        "  plt.title(' y = '                      +\n",
        "         str('%.2f' %ridge_coeff)     +\n",
        "         ' * x + '                    +\n",
        "         str('%.2f' %ridge_intercept) +\n",
        "         ' for \\u03BB or \\u03B1 = '   +\n",
        "         str(l),\n",
        "         fontsize=12\n",
        "        )\n",
        "  plt.tight_layout()"
      ],
      "execution_count": 3,
      "outputs": [
        {
          "output_type": "display_data",
          "data": {
            "image/png": "[encoded data removed]",
            "text/plain": [
              "<Figure size 432x288 with 4 Axes>"
            ]
          },
          "metadata": {
            "tags": [],
            "needs_background": "light"
          }
        }
      ]
    },
    {
      "cell_type": "markdown",
      "metadata": {
        "id": "yQ0ogt3TU30A",
        "colab_type": "text"
      },
      "source": [
        "**Lasso Regrression**"
      ]
    },
    {
      "cell_type": "code",
      "metadata": {
        "id": "RMXl6VosU3IP",
        "colab_type": "code",
        "colab": {}
      },
      "source": [
        "import pandas as pd\n",
        "dataset=pd.read_csv('/content/ridge.csv')\n",
        "df=dataset.copy()"
      ],
      "execution_count": 0,
      "outputs": []
    },
    {
      "cell_type": "code",
      "metadata": {
        "id": "Cepi1TjvQxGk",
        "colab_type": "code",
        "colab": {}
      },
      "source": [
        "X=df.iloc[:,:-1]\n",
        "Y=df.iloc[:,-1]"
      ],
      "execution_count": 0,
      "outputs": []
    },
    {
      "cell_type": "code",
      "metadata": {
        "id": "0MqmkAhZVBao",
        "colab_type": "code",
        "outputId": "eb21c4aa-55c0-4992-e8e9-42ff56a1fd69",
        "colab": {
          "base_uri": "https://localhost:8080/",
          "height": 384
        }
      },
      "source": [
        "from sklearn.linear_model import Lasso\n",
        "x_plt=[0,1,2,3,4]\n",
        "lasso_l=[0,0.5,1,2,4]\n",
        "for i,l in enumerate(lasso_l):\n",
        "  lasso=Lasso(alpha=l)\n",
        "  lasso.fit(X,Y)\n",
        "  lasso_coeff=lasso.coef_\n",
        "  #ridge_coeff\n",
        "  lasso_intercept=lasso.intercept_\n",
        "  #ridge_intercept\n",
        "  from pandas import DataFrame\n",
        "  y_plt=lasso.predict(pd.DataFrame(x_plt))\n",
        "  #y_plt\n",
        "  import matplotlib.pyplot as plt\n",
        "  plt.figure(1)\n",
        "  #plt.subplot(2,2,i+1)\n",
        "  plt.plot(x_plt,y_plt)\n",
        "  plt.ylim(ymin=0,ymax=9)\n",
        "  plt.xlim(xmin=0,xmax=6)\n",
        "  plt.text(x_plt[-1],y_plt[-1],\n",
        "      ' y = '                      +\n",
        "         str('%.2f' %lasso_coeff)     +\n",
        "         ' * x + '                    +\n",
        "         str('%.2f' %lasso_intercept) +\n",
        "         ' for \\u03BB or \\u03B1 = '   +\n",
        "         str(l),\n",
        "         fontsize=12\n",
        "        )\n",
        "  plt.tight_layout()"
      ],
      "execution_count": 6,
      "outputs": [
        {
          "output_type": "stream",
          "text": [
            "/usr/local/lib/python3.6/dist-packages/ipykernel_launcher.py:6: UserWarning: With alpha=0, this algorithm does not converge well. You are advised to use the LinearRegression estimator\n",
            "  \n",
            "/usr/local/lib/python3.6/dist-packages/sklearn/linear_model/_coordinate_descent.py:476: UserWarning: Coordinate descent with no regularization may lead to unexpected results and is discouraged.\n",
            "  positive)\n"
          ],
          "name": "stderr"
        },
        {
          "output_type": "display_data",
          "data": {
            "image/png": "[encoded data removed]",
            "text/plain": [
              "<Figure size 432x288 with 1 Axes>"
            ]
          },
          "metadata": {
            "tags": [],
            "needs_background": "light"
          }
        }
      ]
    },
    {
      "cell_type": "markdown",
      "metadata": {
        "id": "nI8WLsH435Ax",
        "colab_type": "text"
      },
      "source": [
        "**L1 and L2 for Multicollinearity and Feature Selection**"
      ]
    },
    {
      "cell_type": "code",
      "metadata": {
        "id": "EK7_7FcDY2g3",
        "colab_type": "code",
        "colab": {}
      },
      "source": [
        "import pandas as pd\n",
        "dataset=pd.read_csv('/content/mcl.csv')\n",
        "df=dataset.copy()\n"
      ],
      "execution_count": 0,
      "outputs": []
    },
    {
      "cell_type": "code",
      "metadata": {
        "id": "L4T71kwS6B9c",
        "colab_type": "code",
        "colab": {}
      },
      "source": [
        "X=df.iloc[:,:-1]\n",
        "Y=df.iloc[:,-1]\n"
      ],
      "execution_count": 0,
      "outputs": []
    },
    {
      "cell_type": "code",
      "metadata": {
        "id": "n7zrzF4g6N2H",
        "colab_type": "code",
        "outputId": "1f5a6831-57f2-4e86-ff80-95313a2ccf34",
        "colab": {
          "base_uri": "https://localhost:8080/",
          "height": 511
        }
      },
      "source": [
        "correlation=X.corr()\n",
        "correlation"
      ],
      "execution_count": 11,
      "outputs": [
        {
          "output_type": "execute_result",
          "data": {
            "text/html": [
              "<div>\n",
              "<style scoped>\n",
              "    .dataframe tbody tr th:only-of-type {\n",
              "        vertical-align: middle;\n",
              "    }\n",
              "\n",
              "    .dataframe tbody tr th {\n",
              "        vertical-align: top;\n",
              "    }\n",
              "\n",
              "    .dataframe thead th {\n",
              "        text-align: right;\n",
              "    }\n",
              "</style>\n",
              "<table border=\"1\" class=\"dataframe\">\n",
              "  <thead>\n",
              "    <tr style=\"text-align: right;\">\n",
              "      <th></th>\n",
              "      <th>X1</th>\n",
              "      <th>X2</th>\n",
              "      <th>X3</th>\n",
              "      <th>X4</th>\n",
              "      <th>X5</th>\n",
              "      <th>X6</th>\n",
              "      <th>X7</th>\n",
              "      <th>X8</th>\n",
              "      <th>X9</th>\n",
              "      <th>X10</th>\n",
              "      <th>X11</th>\n",
              "      <th>X12</th>\n",
              "      <th>X13</th>\n",
              "      <th>X14</th>\n",
              "      <th>X15</th>\n",
              "    </tr>\n",
              "  </thead>\n",
              "  <tbody>\n",
              "    <tr>\n",
              "      <th>X1</th>\n",
              "      <td>1.000000</td>\n",
              "      <td>1.000000</td>\n",
              "      <td>-0.209711</td>\n",
              "      <td>0.119736</td>\n",
              "      <td>-0.128403</td>\n",
              "      <td>-0.251226</td>\n",
              "      <td>-0.245742</td>\n",
              "      <td>0.135160</td>\n",
              "      <td>0.066598</td>\n",
              "      <td>0.206307</td>\n",
              "      <td>-0.155450</td>\n",
              "      <td>0.044458</td>\n",
              "      <td>0.003999</td>\n",
              "      <td>-0.078752</td>\n",
              "      <td>0.067695</td>\n",
              "    </tr>\n",
              "    <tr>\n",
              "      <th>X2</th>\n",
              "      <td>1.000000</td>\n",
              "      <td>1.000000</td>\n",
              "      <td>-0.209711</td>\n",
              "      <td>0.119736</td>\n",
              "      <td>-0.128403</td>\n",
              "      <td>-0.251226</td>\n",
              "      <td>-0.245742</td>\n",
              "      <td>0.135160</td>\n",
              "      <td>0.066598</td>\n",
              "      <td>0.206307</td>\n",
              "      <td>-0.155450</td>\n",
              "      <td>0.044458</td>\n",
              "      <td>0.003999</td>\n",
              "      <td>-0.078752</td>\n",
              "      <td>0.067695</td>\n",
              "    </tr>\n",
              "    <tr>\n",
              "      <th>X3</th>\n",
              "      <td>-0.209711</td>\n",
              "      <td>-0.209711</td>\n",
              "      <td>1.000000</td>\n",
              "      <td>-0.046544</td>\n",
              "      <td>0.071759</td>\n",
              "      <td>-0.212747</td>\n",
              "      <td>0.033865</td>\n",
              "      <td>0.009074</td>\n",
              "      <td>-0.245954</td>\n",
              "      <td>-0.085453</td>\n",
              "      <td>-0.051440</td>\n",
              "      <td>0.188441</td>\n",
              "      <td>0.154852</td>\n",
              "      <td>0.156795</td>\n",
              "      <td>0.339773</td>\n",
              "    </tr>\n",
              "    <tr>\n",
              "      <th>X4</th>\n",
              "      <td>0.119736</td>\n",
              "      <td>0.119736</td>\n",
              "      <td>-0.046544</td>\n",
              "      <td>1.000000</td>\n",
              "      <td>-0.295913</td>\n",
              "      <td>0.221554</td>\n",
              "      <td>0.316329</td>\n",
              "      <td>0.171753</td>\n",
              "      <td>-0.155269</td>\n",
              "      <td>-0.086964</td>\n",
              "      <td>-0.298260</td>\n",
              "      <td>0.219644</td>\n",
              "      <td>0.264612</td>\n",
              "      <td>0.302779</td>\n",
              "      <td>-0.096975</td>\n",
              "    </tr>\n",
              "    <tr>\n",
              "      <th>X5</th>\n",
              "      <td>-0.128403</td>\n",
              "      <td>-0.128403</td>\n",
              "      <td>0.071759</td>\n",
              "      <td>-0.295913</td>\n",
              "      <td>1.000000</td>\n",
              "      <td>-0.191911</td>\n",
              "      <td>-0.377967</td>\n",
              "      <td>-0.173086</td>\n",
              "      <td>0.062950</td>\n",
              "      <td>0.141345</td>\n",
              "      <td>0.318774</td>\n",
              "      <td>-0.292829</td>\n",
              "      <td>0.445463</td>\n",
              "      <td>-0.053803</td>\n",
              "      <td>-0.065310</td>\n",
              "    </tr>\n",
              "    <tr>\n",
              "      <th>X6</th>\n",
              "      <td>-0.251226</td>\n",
              "      <td>-0.251226</td>\n",
              "      <td>-0.212747</td>\n",
              "      <td>0.221554</td>\n",
              "      <td>-0.191911</td>\n",
              "      <td>1.000000</td>\n",
              "      <td>0.195824</td>\n",
              "      <td>-0.141802</td>\n",
              "      <td>0.132583</td>\n",
              "      <td>0.227458</td>\n",
              "      <td>0.173524</td>\n",
              "      <td>0.134872</td>\n",
              "      <td>0.087818</td>\n",
              "      <td>0.182317</td>\n",
              "      <td>-0.021305</td>\n",
              "    </tr>\n",
              "    <tr>\n",
              "      <th>X7</th>\n",
              "      <td>-0.245742</td>\n",
              "      <td>-0.245742</td>\n",
              "      <td>0.033865</td>\n",
              "      <td>0.316329</td>\n",
              "      <td>-0.377967</td>\n",
              "      <td>0.195824</td>\n",
              "      <td>1.000000</td>\n",
              "      <td>0.107389</td>\n",
              "      <td>-0.316919</td>\n",
              "      <td>-0.044498</td>\n",
              "      <td>-0.290376</td>\n",
              "      <td>-0.024236</td>\n",
              "      <td>-0.150627</td>\n",
              "      <td>0.315024</td>\n",
              "      <td>0.027880</td>\n",
              "    </tr>\n",
              "    <tr>\n",
              "      <th>X8</th>\n",
              "      <td>0.135160</td>\n",
              "      <td>0.135160</td>\n",
              "      <td>0.009074</td>\n",
              "      <td>0.171753</td>\n",
              "      <td>-0.173086</td>\n",
              "      <td>-0.141802</td>\n",
              "      <td>0.107389</td>\n",
              "      <td>1.000000</td>\n",
              "      <td>0.036707</td>\n",
              "      <td>0.072132</td>\n",
              "      <td>-0.196835</td>\n",
              "      <td>-0.313592</td>\n",
              "      <td>0.109849</td>\n",
              "      <td>0.462225</td>\n",
              "      <td>0.107362</td>\n",
              "    </tr>\n",
              "    <tr>\n",
              "      <th>X9</th>\n",
              "      <td>0.066598</td>\n",
              "      <td>0.066598</td>\n",
              "      <td>-0.245954</td>\n",
              "      <td>-0.155269</td>\n",
              "      <td>0.062950</td>\n",
              "      <td>0.132583</td>\n",
              "      <td>-0.316919</td>\n",
              "      <td>0.036707</td>\n",
              "      <td>1.000000</td>\n",
              "      <td>-0.243126</td>\n",
              "      <td>-0.159466</td>\n",
              "      <td>0.076146</td>\n",
              "      <td>0.256291</td>\n",
              "      <td>-0.193855</td>\n",
              "      <td>0.293955</td>\n",
              "    </tr>\n",
              "    <tr>\n",
              "      <th>X10</th>\n",
              "      <td>0.206307</td>\n",
              "      <td>0.206307</td>\n",
              "      <td>-0.085453</td>\n",
              "      <td>-0.086964</td>\n",
              "      <td>0.141345</td>\n",
              "      <td>0.227458</td>\n",
              "      <td>-0.044498</td>\n",
              "      <td>0.072132</td>\n",
              "      <td>-0.243126</td>\n",
              "      <td>1.000000</td>\n",
              "      <td>-0.052777</td>\n",
              "      <td>-0.091408</td>\n",
              "      <td>-0.064017</td>\n",
              "      <td>0.059012</td>\n",
              "      <td>-0.238839</td>\n",
              "    </tr>\n",
              "    <tr>\n",
              "      <th>X11</th>\n",
              "      <td>-0.155450</td>\n",
              "      <td>-0.155450</td>\n",
              "      <td>-0.051440</td>\n",
              "      <td>-0.298260</td>\n",
              "      <td>0.318774</td>\n",
              "      <td>0.173524</td>\n",
              "      <td>-0.290376</td>\n",
              "      <td>-0.196835</td>\n",
              "      <td>-0.159466</td>\n",
              "      <td>-0.052777</td>\n",
              "      <td>1.000000</td>\n",
              "      <td>-0.133474</td>\n",
              "      <td>-0.068450</td>\n",
              "      <td>-0.111403</td>\n",
              "      <td>0.029782</td>\n",
              "    </tr>\n",
              "    <tr>\n",
              "      <th>X12</th>\n",
              "      <td>0.044458</td>\n",
              "      <td>0.044458</td>\n",
              "      <td>0.188441</td>\n",
              "      <td>0.219644</td>\n",
              "      <td>-0.292829</td>\n",
              "      <td>0.134872</td>\n",
              "      <td>-0.024236</td>\n",
              "      <td>-0.313592</td>\n",
              "      <td>0.076146</td>\n",
              "      <td>-0.091408</td>\n",
              "      <td>-0.133474</td>\n",
              "      <td>1.000000</td>\n",
              "      <td>-0.331363</td>\n",
              "      <td>-0.029217</td>\n",
              "      <td>0.104011</td>\n",
              "    </tr>\n",
              "    <tr>\n",
              "      <th>X13</th>\n",
              "      <td>0.003999</td>\n",
              "      <td>0.003999</td>\n",
              "      <td>0.154852</td>\n",
              "      <td>0.264612</td>\n",
              "      <td>0.445463</td>\n",
              "      <td>0.087818</td>\n",
              "      <td>-0.150627</td>\n",
              "      <td>0.109849</td>\n",
              "      <td>0.256291</td>\n",
              "      <td>-0.064017</td>\n",
              "      <td>-0.068450</td>\n",
              "      <td>-0.331363</td>\n",
              "      <td>1.000000</td>\n",
              "      <td>0.039602</td>\n",
              "      <td>0.079759</td>\n",
              "    </tr>\n",
              "    <tr>\n",
              "      <th>X14</th>\n",
              "      <td>-0.078752</td>\n",
              "      <td>-0.078752</td>\n",
              "      <td>0.156795</td>\n",
              "      <td>0.302779</td>\n",
              "      <td>-0.053803</td>\n",
              "      <td>0.182317</td>\n",
              "      <td>0.315024</td>\n",
              "      <td>0.462225</td>\n",
              "      <td>-0.193855</td>\n",
              "      <td>0.059012</td>\n",
              "      <td>-0.111403</td>\n",
              "      <td>-0.029217</td>\n",
              "      <td>0.039602</td>\n",
              "      <td>1.000000</td>\n",
              "      <td>0.229794</td>\n",
              "    </tr>\n",
              "    <tr>\n",
              "      <th>X15</th>\n",
              "      <td>0.067695</td>\n",
              "      <td>0.067695</td>\n",
              "      <td>0.339773</td>\n",
              "      <td>-0.096975</td>\n",
              "      <td>-0.065310</td>\n",
              "      <td>-0.021305</td>\n",
              "      <td>0.027880</td>\n",
              "      <td>0.107362</td>\n",
              "      <td>0.293955</td>\n",
              "      <td>-0.238839</td>\n",
              "      <td>0.029782</td>\n",
              "      <td>0.104011</td>\n",
              "      <td>0.079759</td>\n",
              "      <td>0.229794</td>\n",
              "      <td>1.000000</td>\n",
              "    </tr>\n",
              "  </tbody>\n",
              "</table>\n",
              "</div>"
            ],
            "text/plain": [
              "           X1        X2        X3  ...       X13       X14       X15\n",
              "X1   1.000000  1.000000 -0.209711  ...  0.003999 -0.078752  0.067695\n",
              "X2   1.000000  1.000000 -0.209711  ...  0.003999 -0.078752  0.067695\n",
              "X3  -0.209711 -0.209711  1.000000  ...  0.154852  0.156795  0.339773\n",
              "X4   0.119736  0.119736 -0.046544  ...  0.264612  0.302779 -0.096975\n",
              "X5  -0.128403 -0.128403  0.071759  ...  0.445463 -0.053803 -0.065310\n",
              "X6  -0.251226 -0.251226 -0.212747  ...  0.087818  0.182317 -0.021305\n",
              "X7  -0.245742 -0.245742  0.033865  ... -0.150627  0.315024  0.027880\n",
              "X8   0.135160  0.135160  0.009074  ...  0.109849  0.462225  0.107362\n",
              "X9   0.066598  0.066598 -0.245954  ...  0.256291 -0.193855  0.293955\n",
              "X10  0.206307  0.206307 -0.085453  ... -0.064017  0.059012 -0.238839\n",
              "X11 -0.155450 -0.155450 -0.051440  ... -0.068450 -0.111403  0.029782\n",
              "X12  0.044458  0.044458  0.188441  ... -0.331363 -0.029217  0.104011\n",
              "X13  0.003999  0.003999  0.154852  ...  1.000000  0.039602  0.079759\n",
              "X14 -0.078752 -0.078752  0.156795  ...  0.039602  1.000000  0.229794\n",
              "X15  0.067695  0.067695  0.339773  ...  0.079759  0.229794  1.000000\n",
              "\n",
              "[15 rows x 15 columns]"
            ]
          },
          "metadata": {
            "tags": []
          },
          "execution_count": 11
        }
      ]
    },
    {
      "cell_type": "code",
      "metadata": {
        "id": "PpdPuaBO6aEn",
        "colab_type": "code",
        "outputId": "aaf031cb-e39f-4ac6-f380-14b7fb7f4e9a",
        "colab": {
          "base_uri": "https://localhost:8080/",
          "height": 34
        }
      },
      "source": [
        "from sklearn.linear_model import Lasso, Ridge, LinearRegression\n",
        "lr=LinearRegression()\n",
        "lr.fit(X,Y)\n"
      ],
      "execution_count": 12,
      "outputs": [
        {
          "output_type": "execute_result",
          "data": {
            "text/plain": [
              "LinearRegression(copy_X=True, fit_intercept=True, n_jobs=None, normalize=False)"
            ]
          },
          "metadata": {
            "tags": []
          },
          "execution_count": 12
        }
      ]
    },
    {
      "cell_type": "code",
      "metadata": {
        "id": "fWIntvou62gD",
        "colab_type": "code",
        "outputId": "9656327c-0841-458c-bf18-d97afc496519",
        "colab": {
          "base_uri": "https://localhost:8080/",
          "height": 34
        }
      },
      "source": [
        "lr_coeff=lr.coef_\n",
        "lr_coeff\n",
        "lr_intercept=lr.intercept_\n",
        "lr_intercept\n"
      ],
      "execution_count": 17,
      "outputs": [
        {
          "output_type": "execute_result",
          "data": {
            "text/plain": [
              "16.01858043307442"
            ]
          },
          "metadata": {
            "tags": []
          },
          "execution_count": 17
        }
      ]
    },
    {
      "cell_type": "markdown",
      "metadata": {
        "id": "H64gfO9S7Wo0",
        "colab_type": "text"
      },
      "source": [
        "**#Lasso Regression**"
      ]
    },
    {
      "cell_type": "code",
      "metadata": {
        "id": "tU_d39gE7FRf",
        "colab_type": "code",
        "colab": {
          "base_uri": "https://localhost:8080/",
          "height": 67
        },
        "outputId": "6d57c43b-ca97-49f9-bfc6-073fb407c851"
      },
      "source": [
        "lasso=Lasso(alpha=10)\n",
        "lasso.fit(X,Y)\n",
        "lasso_coeff=lasso.coef_\n",
        "lasso_coeff\n",
        "#lasso_intercept=lasso.intercept_"
      ],
      "execution_count": 21,
      "outputs": [
        {
          "output_type": "execute_result",
          "data": {
            "text/plain": [
              "array([ 0.        ,  1.7309199 ,  3.93145036,  3.18600347,  4.26593065,\n",
              "        1.27754125,  1.64825311,  0.66718862,  0.        ,  0.        ,\n",
              "        0.69332269,  0.50395826, -0.16795267,  0.12460803,  0.51203443])"
            ]
          },
          "metadata": {
            "tags": []
          },
          "execution_count": 21
        }
      ]
    },
    {
      "cell_type": "code",
      "metadata": {
        "id": "-kCmizpF7Juz",
        "colab_type": "code",
        "colab": {
          "base_uri": "https://localhost:8080/",
          "height": 34
        },
        "outputId": "785e7122-a0b9-48c9-81f2-962636450ac5"
      },
      "source": [
        "\n",
        "lasso_intercept=lasso.intercept_\n",
        "lasso_intercept"
      ],
      "execution_count": 22,
      "outputs": [
        {
          "output_type": "execute_result",
          "data": {
            "text/plain": [
              "103.47122405398426"
            ]
          },
          "metadata": {
            "tags": []
          },
          "execution_count": 22
        }
      ]
    },
    {
      "cell_type": "markdown",
      "metadata": {
        "id": "dY-_u5L272mR",
        "colab_type": "text"
      },
      "source": [
        "**#Ridge Regression**"
      ]
    },
    {
      "cell_type": "code",
      "metadata": {
        "id": "w0F7XPYC72Gu",
        "colab_type": "code",
        "colab": {
          "base_uri": "https://localhost:8080/",
          "height": 67
        },
        "outputId": "8524a42e-d6e0-414a-f956-a71a4d76d9f1"
      },
      "source": [
        "ridge=Ridge(alpha=100)\n",
        "ridge.fit(X,Y)\n",
        "ridge_coeff=ridge.coef_\n",
        "ridge_coeff\n",
        "#ridge_intercept=ridge.intercept_"
      ],
      "execution_count": 23,
      "outputs": [
        {
          "output_type": "execute_result",
          "data": {
            "text/plain": [
              "array([ 0.70168778,  1.26303801,  3.63253895,  2.96709834,  3.84581771,\n",
              "        0.94041065,  1.87287829,  0.76603986,  0.24004053,  0.59800807,\n",
              "        1.15741106,  0.90270645, -0.04607831,  0.36735591,  0.73950502])"
            ]
          },
          "metadata": {
            "tags": []
          },
          "execution_count": 23
        }
      ]
    },
    {
      "cell_type": "code",
      "metadata": {
        "id": "_HE-41-H7yyb",
        "colab_type": "code",
        "colab": {
          "base_uri": "https://localhost:8080/",
          "height": 34
        },
        "outputId": "6ffb1e14-0cfe-4ccf-e6a9-d7e4d701ff50"
      },
      "source": [
        "ridge_intercept=ridge.intercept_\n",
        "ridge_intercept"
      ],
      "execution_count": 24,
      "outputs": [
        {
          "output_type": "execute_result",
          "data": {
            "text/plain": [
              "89.6662890524666"
            ]
          },
          "metadata": {
            "tags": []
          },
          "execution_count": 24
        }
      ]
    }
  ]
}