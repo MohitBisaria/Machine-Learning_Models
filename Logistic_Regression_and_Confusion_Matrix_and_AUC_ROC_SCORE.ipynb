{
  "nbformat": 4,
  "nbformat_minor": 0,
  "metadata": {
    "colab": {
      "name": "Logistic_Regression_and_Confusion_Matrix and AUC_ROC_SCORE.ipynb",
      "provenance": [],
      "collapsed_sections": []
    },
    "kernelspec": {
      "name": "python3",
      "display_name": "Python 3"
    }
  },
  "cells": [
    {
      "cell_type": "code",
      "metadata": {
        "id": "s76JAw2sBTdx",
        "colab_type": "code",
        "colab": {}
      },
      "source": [
        " import pandas as pd\n",
        " LoanData=pd.read_csv(\"/content/Exercise1.csv\")\n",
        " LoanPrep=LoanData.copy()"
      ],
      "execution_count": 0,
      "outputs": []
    },
    {
      "cell_type": "code",
      "metadata": {
        "id": "SqFARhjQDmHV",
        "colab_type": "code",
        "outputId": "3d5680a6-4d23-4446-a911-3b9875120509",
        "colab": {
          "base_uri": "https://localhost:8080/",
          "height": 134
        }
      },
      "source": [
        "LoanPrep.isnull().sum()"
      ],
      "execution_count": 3,
      "outputs": [
        {
          "output_type": "execute_result",
          "data": {
            "text/plain": [
              "gender     13\n",
              "married     3\n",
              "ch         50\n",
              "income      0\n",
              "loanamt    22\n",
              "status      0\n",
              "dtype: int64"
            ]
          },
          "metadata": {
            "tags": []
          },
          "execution_count": 3
        }
      ]
    },
    {
      "cell_type": "markdown",
      "metadata": {
        "id": "XoWsFFpVDtFI",
        "colab_type": "text"
      },
      "source": [
        "**Drop the rows with missing values**"
      ]
    },
    {
      "cell_type": "code",
      "metadata": {
        "id": "MqOE1zTRDqtc",
        "colab_type": "code",
        "outputId": "8a6d2a67-304f-4618-e1b4-f7ae2d55328f",
        "colab": {
          "base_uri": "https://localhost:8080/",
          "height": 402
        }
      },
      "source": [
        "LoanPrep=LoanPrep.dropna()\n",
        "LoanPrep"
      ],
      "execution_count": 4,
      "outputs": [
        {
          "output_type": "execute_result",
          "data": {
            "text/html": [
              "<div>\n",
              "<style scoped>\n",
              "    .dataframe tbody tr th:only-of-type {\n",
              "        vertical-align: middle;\n",
              "    }\n",
              "\n",
              "    .dataframe tbody tr th {\n",
              "        vertical-align: top;\n",
              "    }\n",
              "\n",
              "    .dataframe thead th {\n",
              "        text-align: right;\n",
              "    }\n",
              "</style>\n",
              "<table border=\"1\" class=\"dataframe\">\n",
              "  <thead>\n",
              "    <tr style=\"text-align: right;\">\n",
              "      <th></th>\n",
              "      <th>gender</th>\n",
              "      <th>married</th>\n",
              "      <th>ch</th>\n",
              "      <th>income</th>\n",
              "      <th>loanamt</th>\n",
              "      <th>status</th>\n",
              "    </tr>\n",
              "  </thead>\n",
              "  <tbody>\n",
              "    <tr>\n",
              "      <th>1</th>\n",
              "      <td>Male</td>\n",
              "      <td>Yes</td>\n",
              "      <td>1.0</td>\n",
              "      <td>4583</td>\n",
              "      <td>128.0</td>\n",
              "      <td>N</td>\n",
              "    </tr>\n",
              "    <tr>\n",
              "      <th>2</th>\n",
              "      <td>Male</td>\n",
              "      <td>Yes</td>\n",
              "      <td>1.0</td>\n",
              "      <td>3000</td>\n",
              "      <td>66.0</td>\n",
              "      <td>Y</td>\n",
              "    </tr>\n",
              "    <tr>\n",
              "      <th>3</th>\n",
              "      <td>Male</td>\n",
              "      <td>Yes</td>\n",
              "      <td>1.0</td>\n",
              "      <td>2583</td>\n",
              "      <td>120.0</td>\n",
              "      <td>Y</td>\n",
              "    </tr>\n",
              "    <tr>\n",
              "      <th>4</th>\n",
              "      <td>Male</td>\n",
              "      <td>No</td>\n",
              "      <td>1.0</td>\n",
              "      <td>6000</td>\n",
              "      <td>141.0</td>\n",
              "      <td>Y</td>\n",
              "    </tr>\n",
              "    <tr>\n",
              "      <th>5</th>\n",
              "      <td>Male</td>\n",
              "      <td>Yes</td>\n",
              "      <td>1.0</td>\n",
              "      <td>5417</td>\n",
              "      <td>267.0</td>\n",
              "      <td>Y</td>\n",
              "    </tr>\n",
              "    <tr>\n",
              "      <th>...</th>\n",
              "      <td>...</td>\n",
              "      <td>...</td>\n",
              "      <td>...</td>\n",
              "      <td>...</td>\n",
              "      <td>...</td>\n",
              "      <td>...</td>\n",
              "    </tr>\n",
              "    <tr>\n",
              "      <th>609</th>\n",
              "      <td>Female</td>\n",
              "      <td>No</td>\n",
              "      <td>1.0</td>\n",
              "      <td>2900</td>\n",
              "      <td>71.0</td>\n",
              "      <td>Y</td>\n",
              "    </tr>\n",
              "    <tr>\n",
              "      <th>610</th>\n",
              "      <td>Male</td>\n",
              "      <td>Yes</td>\n",
              "      <td>1.0</td>\n",
              "      <td>4106</td>\n",
              "      <td>40.0</td>\n",
              "      <td>Y</td>\n",
              "    </tr>\n",
              "    <tr>\n",
              "      <th>611</th>\n",
              "      <td>Male</td>\n",
              "      <td>Yes</td>\n",
              "      <td>1.0</td>\n",
              "      <td>8072</td>\n",
              "      <td>253.0</td>\n",
              "      <td>Y</td>\n",
              "    </tr>\n",
              "    <tr>\n",
              "      <th>612</th>\n",
              "      <td>Male</td>\n",
              "      <td>Yes</td>\n",
              "      <td>1.0</td>\n",
              "      <td>7583</td>\n",
              "      <td>187.0</td>\n",
              "      <td>Y</td>\n",
              "    </tr>\n",
              "    <tr>\n",
              "      <th>613</th>\n",
              "      <td>Female</td>\n",
              "      <td>No</td>\n",
              "      <td>0.0</td>\n",
              "      <td>4583</td>\n",
              "      <td>133.0</td>\n",
              "      <td>N</td>\n",
              "    </tr>\n",
              "  </tbody>\n",
              "</table>\n",
              "<p>529 rows × 6 columns</p>\n",
              "</div>"
            ],
            "text/plain": [
              "     gender married   ch  income  loanamt status\n",
              "1      Male     Yes  1.0    4583    128.0      N\n",
              "2      Male     Yes  1.0    3000     66.0      Y\n",
              "3      Male     Yes  1.0    2583    120.0      Y\n",
              "4      Male      No  1.0    6000    141.0      Y\n",
              "5      Male     Yes  1.0    5417    267.0      Y\n",
              "..      ...     ...  ...     ...      ...    ...\n",
              "609  Female      No  1.0    2900     71.0      Y\n",
              "610    Male     Yes  1.0    4106     40.0      Y\n",
              "611    Male     Yes  1.0    8072    253.0      Y\n",
              "612    Male     Yes  1.0    7583    187.0      Y\n",
              "613  Female      No  0.0    4583    133.0      N\n",
              "\n",
              "[529 rows x 6 columns]"
            ]
          },
          "metadata": {
            "tags": []
          },
          "execution_count": 4
        }
      ]
    },
    {
      "cell_type": "code",
      "metadata": {
        "id": "mLpOYPjXEBpx",
        "colab_type": "code",
        "outputId": "c876cb36-b873-4a1e-c40c-6b4275417c93",
        "colab": {
          "base_uri": "https://localhost:8080/",
          "height": 134
        }
      },
      "source": [
        "LoanPrep.isnull().sum()"
      ],
      "execution_count": 5,
      "outputs": [
        {
          "output_type": "execute_result",
          "data": {
            "text/plain": [
              "gender     0\n",
              "married    0\n",
              "ch         0\n",
              "income     0\n",
              "loanamt    0\n",
              "status     0\n",
              "dtype: int64"
            ]
          },
          "metadata": {
            "tags": []
          },
          "execution_count": 5
        }
      ]
    },
    {
      "cell_type": "code",
      "metadata": {
        "id": "HSJD8Z_UEeBP",
        "colab_type": "code",
        "colab": {}
      },
      "source": [
        "LoanPrep=LoanPrep.drop(['gender'],axis=1)"
      ],
      "execution_count": 0,
      "outputs": []
    },
    {
      "cell_type": "markdown",
      "metadata": {
        "id": "J9dv87ubEKTR",
        "colab_type": "text"
      },
      "source": [
        "**Create the dummy variable for categorical variables**"
      ]
    },
    {
      "cell_type": "code",
      "metadata": {
        "id": "7kMjhRkiEIEr",
        "colab_type": "code",
        "outputId": "4104e764-8ea3-4b73-de04-36489a0daf2c",
        "colab": {
          "base_uri": "https://localhost:8080/",
          "height": 118
        }
      },
      "source": [
        "LoanPrep.dtypes"
      ],
      "execution_count": 7,
      "outputs": [
        {
          "output_type": "execute_result",
          "data": {
            "text/plain": [
              "married     object\n",
              "ch         float64\n",
              "income       int64\n",
              "loanamt    float64\n",
              "status      object\n",
              "dtype: object"
            ]
          },
          "metadata": {
            "tags": []
          },
          "execution_count": 7
        }
      ]
    },
    {
      "cell_type": "code",
      "metadata": {
        "id": "Wlvi3NqmE4uh",
        "colab_type": "code",
        "outputId": "399f056f-98b0-46ac-fbd4-3d5a49fed663",
        "colab": {
          "base_uri": "https://localhost:8080/",
          "height": 402
        }
      },
      "source": [
        "LoanPrep=pd.get_dummies(LoanPrep,drop_first=True)\n",
        "LoanPrep"
      ],
      "execution_count": 8,
      "outputs": [
        {
          "output_type": "execute_result",
          "data": {
            "text/html": [
              "<div>\n",
              "<style scoped>\n",
              "    .dataframe tbody tr th:only-of-type {\n",
              "        vertical-align: middle;\n",
              "    }\n",
              "\n",
              "    .dataframe tbody tr th {\n",
              "        vertical-align: top;\n",
              "    }\n",
              "\n",
              "    .dataframe thead th {\n",
              "        text-align: right;\n",
              "    }\n",
              "</style>\n",
              "<table border=\"1\" class=\"dataframe\">\n",
              "  <thead>\n",
              "    <tr style=\"text-align: right;\">\n",
              "      <th></th>\n",
              "      <th>ch</th>\n",
              "      <th>income</th>\n",
              "      <th>loanamt</th>\n",
              "      <th>married_Yes</th>\n",
              "      <th>status_Y</th>\n",
              "    </tr>\n",
              "  </thead>\n",
              "  <tbody>\n",
              "    <tr>\n",
              "      <th>1</th>\n",
              "      <td>1.0</td>\n",
              "      <td>4583</td>\n",
              "      <td>128.0</td>\n",
              "      <td>1</td>\n",
              "      <td>0</td>\n",
              "    </tr>\n",
              "    <tr>\n",
              "      <th>2</th>\n",
              "      <td>1.0</td>\n",
              "      <td>3000</td>\n",
              "      <td>66.0</td>\n",
              "      <td>1</td>\n",
              "      <td>1</td>\n",
              "    </tr>\n",
              "    <tr>\n",
              "      <th>3</th>\n",
              "      <td>1.0</td>\n",
              "      <td>2583</td>\n",
              "      <td>120.0</td>\n",
              "      <td>1</td>\n",
              "      <td>1</td>\n",
              "    </tr>\n",
              "    <tr>\n",
              "      <th>4</th>\n",
              "      <td>1.0</td>\n",
              "      <td>6000</td>\n",
              "      <td>141.0</td>\n",
              "      <td>0</td>\n",
              "      <td>1</td>\n",
              "    </tr>\n",
              "    <tr>\n",
              "      <th>5</th>\n",
              "      <td>1.0</td>\n",
              "      <td>5417</td>\n",
              "      <td>267.0</td>\n",
              "      <td>1</td>\n",
              "      <td>1</td>\n",
              "    </tr>\n",
              "    <tr>\n",
              "      <th>...</th>\n",
              "      <td>...</td>\n",
              "      <td>...</td>\n",
              "      <td>...</td>\n",
              "      <td>...</td>\n",
              "      <td>...</td>\n",
              "    </tr>\n",
              "    <tr>\n",
              "      <th>609</th>\n",
              "      <td>1.0</td>\n",
              "      <td>2900</td>\n",
              "      <td>71.0</td>\n",
              "      <td>0</td>\n",
              "      <td>1</td>\n",
              "    </tr>\n",
              "    <tr>\n",
              "      <th>610</th>\n",
              "      <td>1.0</td>\n",
              "      <td>4106</td>\n",
              "      <td>40.0</td>\n",
              "      <td>1</td>\n",
              "      <td>1</td>\n",
              "    </tr>\n",
              "    <tr>\n",
              "      <th>611</th>\n",
              "      <td>1.0</td>\n",
              "      <td>8072</td>\n",
              "      <td>253.0</td>\n",
              "      <td>1</td>\n",
              "      <td>1</td>\n",
              "    </tr>\n",
              "    <tr>\n",
              "      <th>612</th>\n",
              "      <td>1.0</td>\n",
              "      <td>7583</td>\n",
              "      <td>187.0</td>\n",
              "      <td>1</td>\n",
              "      <td>1</td>\n",
              "    </tr>\n",
              "    <tr>\n",
              "      <th>613</th>\n",
              "      <td>0.0</td>\n",
              "      <td>4583</td>\n",
              "      <td>133.0</td>\n",
              "      <td>0</td>\n",
              "      <td>0</td>\n",
              "    </tr>\n",
              "  </tbody>\n",
              "</table>\n",
              "<p>529 rows × 5 columns</p>\n",
              "</div>"
            ],
            "text/plain": [
              "      ch  income  loanamt  married_Yes  status_Y\n",
              "1    1.0    4583    128.0            1         0\n",
              "2    1.0    3000     66.0            1         1\n",
              "3    1.0    2583    120.0            1         1\n",
              "4    1.0    6000    141.0            0         1\n",
              "5    1.0    5417    267.0            1         1\n",
              "..   ...     ...      ...          ...       ...\n",
              "609  1.0    2900     71.0            0         1\n",
              "610  1.0    4106     40.0            1         1\n",
              "611  1.0    8072    253.0            1         1\n",
              "612  1.0    7583    187.0            1         1\n",
              "613  0.0    4583    133.0            0         0\n",
              "\n",
              "[529 rows x 5 columns]"
            ]
          },
          "metadata": {
            "tags": []
          },
          "execution_count": 8
        }
      ]
    },
    {
      "cell_type": "markdown",
      "metadata": {
        "id": "3Q1O9c35GvAd",
        "colab_type": "text"
      },
      "source": [
        "**Normalize the data**"
      ]
    },
    {
      "cell_type": "code",
      "metadata": {
        "id": "gSvHmRNdFZEk",
        "colab_type": "code",
        "colab": {}
      },
      "source": [
        "from sklearn.preprocessing import StandardScaler\n",
        "scaler_=StandardScaler()"
      ],
      "execution_count": 0,
      "outputs": []
    },
    {
      "cell_type": "code",
      "metadata": {
        "id": "MsUFWtdBIEiI",
        "colab_type": "code",
        "outputId": "efd58758-6eab-4bd0-e122-d2f7e3a413c6",
        "colab": {
          "base_uri": "https://localhost:8080/",
          "height": 218
        }
      },
      "source": [
        "LoanPrep['income']=scaler_.fit_transform(LoanPrep[['income']])\n",
        "LoanPrep['income']"
      ],
      "execution_count": 10,
      "outputs": [
        {
          "output_type": "execute_result",
          "data": {
            "text/plain": [
              "1     -0.128073\n",
              "2     -0.392077\n",
              "3     -0.461621\n",
              "4      0.108246\n",
              "5      0.011017\n",
              "         ...   \n",
              "609   -0.408754\n",
              "610   -0.207624\n",
              "611    0.453802\n",
              "612    0.372249\n",
              "613   -0.128073\n",
              "Name: income, Length: 529, dtype: float64"
            ]
          },
          "metadata": {
            "tags": []
          },
          "execution_count": 10
        }
      ]
    },
    {
      "cell_type": "code",
      "metadata": {
        "id": "tekfo84VI0mA",
        "colab_type": "code",
        "outputId": "3f7bc8ed-2bf5-4ddd-b184-4c2cb940af62",
        "colab": {
          "base_uri": "https://localhost:8080/",
          "height": 218
        }
      },
      "source": [
        "LoanPrep['loanamt']=scaler_.fit_transform(LoanPrep[['loanamt']])\n",
        "LoanPrep['loanamt']"
      ],
      "execution_count": 11,
      "outputs": [
        {
          "output_type": "execute_result",
          "data": {
            "text/plain": [
              "1     -0.194250\n",
              "2     -0.971015\n",
              "3     -0.294478\n",
              "4     -0.031380\n",
              "5      1.547205\n",
              "         ...   \n",
              "609   -0.908372\n",
              "610   -1.296754\n",
              "611    1.371807\n",
              "612    0.544929\n",
              "613   -0.131608\n",
              "Name: loanamt, Length: 529, dtype: float64"
            ]
          },
          "metadata": {
            "tags": []
          },
          "execution_count": 11
        }
      ]
    },
    {
      "cell_type": "code",
      "metadata": {
        "id": "eMuiOezaJjHd",
        "colab_type": "code",
        "outputId": "325e72c8-72c9-495c-db73-3d4bd4f88047",
        "colab": {
          "base_uri": "https://localhost:8080/",
          "height": 402
        }
      },
      "source": [
        "LoanPrep"
      ],
      "execution_count": 12,
      "outputs": [
        {
          "output_type": "execute_result",
          "data": {
            "text/html": [
              "<div>\n",
              "<style scoped>\n",
              "    .dataframe tbody tr th:only-of-type {\n",
              "        vertical-align: middle;\n",
              "    }\n",
              "\n",
              "    .dataframe tbody tr th {\n",
              "        vertical-align: top;\n",
              "    }\n",
              "\n",
              "    .dataframe thead th {\n",
              "        text-align: right;\n",
              "    }\n",
              "</style>\n",
              "<table border=\"1\" class=\"dataframe\">\n",
              "  <thead>\n",
              "    <tr style=\"text-align: right;\">\n",
              "      <th></th>\n",
              "      <th>ch</th>\n",
              "      <th>income</th>\n",
              "      <th>loanamt</th>\n",
              "      <th>married_Yes</th>\n",
              "      <th>status_Y</th>\n",
              "    </tr>\n",
              "  </thead>\n",
              "  <tbody>\n",
              "    <tr>\n",
              "      <th>1</th>\n",
              "      <td>1.0</td>\n",
              "      <td>-0.128073</td>\n",
              "      <td>-0.194250</td>\n",
              "      <td>1</td>\n",
              "      <td>0</td>\n",
              "    </tr>\n",
              "    <tr>\n",
              "      <th>2</th>\n",
              "      <td>1.0</td>\n",
              "      <td>-0.392077</td>\n",
              "      <td>-0.971015</td>\n",
              "      <td>1</td>\n",
              "      <td>1</td>\n",
              "    </tr>\n",
              "    <tr>\n",
              "      <th>3</th>\n",
              "      <td>1.0</td>\n",
              "      <td>-0.461621</td>\n",
              "      <td>-0.294478</td>\n",
              "      <td>1</td>\n",
              "      <td>1</td>\n",
              "    </tr>\n",
              "    <tr>\n",
              "      <th>4</th>\n",
              "      <td>1.0</td>\n",
              "      <td>0.108246</td>\n",
              "      <td>-0.031380</td>\n",
              "      <td>0</td>\n",
              "      <td>1</td>\n",
              "    </tr>\n",
              "    <tr>\n",
              "      <th>5</th>\n",
              "      <td>1.0</td>\n",
              "      <td>0.011017</td>\n",
              "      <td>1.547205</td>\n",
              "      <td>1</td>\n",
              "      <td>1</td>\n",
              "    </tr>\n",
              "    <tr>\n",
              "      <th>...</th>\n",
              "      <td>...</td>\n",
              "      <td>...</td>\n",
              "      <td>...</td>\n",
              "      <td>...</td>\n",
              "      <td>...</td>\n",
              "    </tr>\n",
              "    <tr>\n",
              "      <th>609</th>\n",
              "      <td>1.0</td>\n",
              "      <td>-0.408754</td>\n",
              "      <td>-0.908372</td>\n",
              "      <td>0</td>\n",
              "      <td>1</td>\n",
              "    </tr>\n",
              "    <tr>\n",
              "      <th>610</th>\n",
              "      <td>1.0</td>\n",
              "      <td>-0.207624</td>\n",
              "      <td>-1.296754</td>\n",
              "      <td>1</td>\n",
              "      <td>1</td>\n",
              "    </tr>\n",
              "    <tr>\n",
              "      <th>611</th>\n",
              "      <td>1.0</td>\n",
              "      <td>0.453802</td>\n",
              "      <td>1.371807</td>\n",
              "      <td>1</td>\n",
              "      <td>1</td>\n",
              "    </tr>\n",
              "    <tr>\n",
              "      <th>612</th>\n",
              "      <td>1.0</td>\n",
              "      <td>0.372249</td>\n",
              "      <td>0.544929</td>\n",
              "      <td>1</td>\n",
              "      <td>1</td>\n",
              "    </tr>\n",
              "    <tr>\n",
              "      <th>613</th>\n",
              "      <td>0.0</td>\n",
              "      <td>-0.128073</td>\n",
              "      <td>-0.131608</td>\n",
              "      <td>0</td>\n",
              "      <td>0</td>\n",
              "    </tr>\n",
              "  </tbody>\n",
              "</table>\n",
              "<p>529 rows × 5 columns</p>\n",
              "</div>"
            ],
            "text/plain": [
              "      ch    income   loanamt  married_Yes  status_Y\n",
              "1    1.0 -0.128073 -0.194250            1         0\n",
              "2    1.0 -0.392077 -0.971015            1         1\n",
              "3    1.0 -0.461621 -0.294478            1         1\n",
              "4    1.0  0.108246 -0.031380            0         1\n",
              "5    1.0  0.011017  1.547205            1         1\n",
              "..   ...       ...       ...          ...       ...\n",
              "609  1.0 -0.408754 -0.908372            0         1\n",
              "610  1.0 -0.207624 -1.296754            1         1\n",
              "611  1.0  0.453802  1.371807            1         1\n",
              "612  1.0  0.372249  0.544929            1         1\n",
              "613  0.0 -0.128073 -0.131608            0         0\n",
              "\n",
              "[529 rows x 5 columns]"
            ]
          },
          "metadata": {
            "tags": []
          },
          "execution_count": 12
        }
      ]
    },
    {
      "cell_type": "markdown",
      "metadata": {
        "id": "-oAWKgAoMmEN",
        "colab_type": "text"
      },
      "source": [
        "**Create the x and y**"
      ]
    },
    {
      "cell_type": "code",
      "metadata": {
        "id": "FQ7mkQuXJoZ5",
        "colab_type": "code",
        "colab": {}
      },
      "source": [
        "Y=LoanPrep[['status_Y']]\n",
        "X=LoanPrep.drop(['status_Y'],axis=1)"
      ],
      "execution_count": 0,
      "outputs": []
    },
    {
      "cell_type": "code",
      "metadata": {
        "id": "Im7zTUQLKHf6",
        "colab_type": "code",
        "colab": {}
      },
      "source": [
        "from sklearn.model_selection import train_test_split\n",
        "X_train,X_test,Y_train,Y_test=train_test_split(X,Y,test_size=0.3,random_state=1234,stratify=Y) "
      ],
      "execution_count": 0,
      "outputs": []
    },
    {
      "cell_type": "code",
      "metadata": {
        "id": "ntHv2O13LYVV",
        "colab_type": "code",
        "outputId": "7687ad2a-932c-42ea-941e-a9cd94e33422",
        "colab": {
          "base_uri": "https://localhost:8080/",
          "height": 402
        }
      },
      "source": [
        "X_train"
      ],
      "execution_count": 15,
      "outputs": [
        {
          "output_type": "execute_result",
          "data": {
            "text/html": [
              "<div>\n",
              "<style scoped>\n",
              "    .dataframe tbody tr th:only-of-type {\n",
              "        vertical-align: middle;\n",
              "    }\n",
              "\n",
              "    .dataframe tbody tr th {\n",
              "        vertical-align: top;\n",
              "    }\n",
              "\n",
              "    .dataframe thead th {\n",
              "        text-align: right;\n",
              "    }\n",
              "</style>\n",
              "<table border=\"1\" class=\"dataframe\">\n",
              "  <thead>\n",
              "    <tr style=\"text-align: right;\">\n",
              "      <th></th>\n",
              "      <th>ch</th>\n",
              "      <th>income</th>\n",
              "      <th>loanamt</th>\n",
              "      <th>married_Yes</th>\n",
              "    </tr>\n",
              "  </thead>\n",
              "  <tbody>\n",
              "    <tr>\n",
              "      <th>17</th>\n",
              "      <td>0.0</td>\n",
              "      <td>-0.307022</td>\n",
              "      <td>-0.845730</td>\n",
              "      <td>0</td>\n",
              "    </tr>\n",
              "    <tr>\n",
              "      <th>474</th>\n",
              "      <td>1.0</td>\n",
              "      <td>0.030196</td>\n",
              "      <td>0.231717</td>\n",
              "      <td>0</td>\n",
              "    </tr>\n",
              "    <tr>\n",
              "      <th>512</th>\n",
              "      <td>1.0</td>\n",
              "      <td>-0.344880</td>\n",
              "      <td>0.056319</td>\n",
              "      <td>1</td>\n",
              "    </tr>\n",
              "    <tr>\n",
              "      <th>459</th>\n",
              "      <td>1.0</td>\n",
              "      <td>0.497497</td>\n",
              "      <td>0.206660</td>\n",
              "      <td>1</td>\n",
              "    </tr>\n",
              "    <tr>\n",
              "      <th>405</th>\n",
              "      <td>1.0</td>\n",
              "      <td>-0.134077</td>\n",
              "      <td>-0.357120</td>\n",
              "      <td>0</td>\n",
              "    </tr>\n",
              "    <tr>\n",
              "      <th>...</th>\n",
              "      <td>...</td>\n",
              "      <td>...</td>\n",
              "      <td>...</td>\n",
              "      <td>...</td>\n",
              "    </tr>\n",
              "    <tr>\n",
              "      <th>289</th>\n",
              "      <td>1.0</td>\n",
              "      <td>0.693290</td>\n",
              "      <td>0.544929</td>\n",
              "      <td>0</td>\n",
              "    </tr>\n",
              "    <tr>\n",
              "      <th>386</th>\n",
              "      <td>1.0</td>\n",
              "      <td>-0.501147</td>\n",
              "      <td>-0.144136</td>\n",
              "      <td>0</td>\n",
              "    </tr>\n",
              "    <tr>\n",
              "      <th>118</th>\n",
              "      <td>1.0</td>\n",
              "      <td>0.036199</td>\n",
              "      <td>0.394587</td>\n",
              "      <td>1</td>\n",
              "    </tr>\n",
              "    <tr>\n",
              "      <th>225</th>\n",
              "      <td>1.0</td>\n",
              "      <td>-0.350383</td>\n",
              "      <td>0.331945</td>\n",
              "      <td>1</td>\n",
              "    </tr>\n",
              "    <tr>\n",
              "      <th>581</th>\n",
              "      <td>1.0</td>\n",
              "      <td>-0.586202</td>\n",
              "      <td>-0.670332</td>\n",
              "      <td>0</td>\n",
              "    </tr>\n",
              "  </tbody>\n",
              "</table>\n",
              "<p>370 rows × 4 columns</p>\n",
              "</div>"
            ],
            "text/plain": [
              "      ch    income   loanamt  married_Yes\n",
              "17   0.0 -0.307022 -0.845730            0\n",
              "474  1.0  0.030196  0.231717            0\n",
              "512  1.0 -0.344880  0.056319            1\n",
              "459  1.0  0.497497  0.206660            1\n",
              "405  1.0 -0.134077 -0.357120            0\n",
              "..   ...       ...       ...          ...\n",
              "289  1.0  0.693290  0.544929            0\n",
              "386  1.0 -0.501147 -0.144136            0\n",
              "118  1.0  0.036199  0.394587            1\n",
              "225  1.0 -0.350383  0.331945            1\n",
              "581  1.0 -0.586202 -0.670332            0\n",
              "\n",
              "[370 rows x 4 columns]"
            ]
          },
          "metadata": {
            "tags": []
          },
          "execution_count": 15
        }
      ]
    },
    {
      "cell_type": "code",
      "metadata": {
        "id": "qnzd-C3tLgrF",
        "colab_type": "code",
        "outputId": "301a0a02-29d9-4144-c6a2-2adef0c17905",
        "colab": {
          "base_uri": "https://localhost:8080/",
          "height": 402
        }
      },
      "source": [
        "Y_test"
      ],
      "execution_count": 16,
      "outputs": [
        {
          "output_type": "execute_result",
          "data": {
            "text/html": [
              "<div>\n",
              "<style scoped>\n",
              "    .dataframe tbody tr th:only-of-type {\n",
              "        vertical-align: middle;\n",
              "    }\n",
              "\n",
              "    .dataframe tbody tr th {\n",
              "        vertical-align: top;\n",
              "    }\n",
              "\n",
              "    .dataframe thead th {\n",
              "        text-align: right;\n",
              "    }\n",
              "</style>\n",
              "<table border=\"1\" class=\"dataframe\">\n",
              "  <thead>\n",
              "    <tr style=\"text-align: right;\">\n",
              "      <th></th>\n",
              "      <th>status_Y</th>\n",
              "    </tr>\n",
              "  </thead>\n",
              "  <tbody>\n",
              "    <tr>\n",
              "      <th>373</th>\n",
              "      <td>0</td>\n",
              "    </tr>\n",
              "    <tr>\n",
              "      <th>464</th>\n",
              "      <td>0</td>\n",
              "    </tr>\n",
              "    <tr>\n",
              "      <th>3</th>\n",
              "      <td>1</td>\n",
              "    </tr>\n",
              "    <tr>\n",
              "      <th>262</th>\n",
              "      <td>0</td>\n",
              "    </tr>\n",
              "    <tr>\n",
              "      <th>401</th>\n",
              "      <td>0</td>\n",
              "    </tr>\n",
              "    <tr>\n",
              "      <th>...</th>\n",
              "      <td>...</td>\n",
              "    </tr>\n",
              "    <tr>\n",
              "      <th>360</th>\n",
              "      <td>0</td>\n",
              "    </tr>\n",
              "    <tr>\n",
              "      <th>71</th>\n",
              "      <td>1</td>\n",
              "    </tr>\n",
              "    <tr>\n",
              "      <th>96</th>\n",
              "      <td>1</td>\n",
              "    </tr>\n",
              "    <tr>\n",
              "      <th>388</th>\n",
              "      <td>1</td>\n",
              "    </tr>\n",
              "    <tr>\n",
              "      <th>270</th>\n",
              "      <td>1</td>\n",
              "    </tr>\n",
              "  </tbody>\n",
              "</table>\n",
              "<p>159 rows × 1 columns</p>\n",
              "</div>"
            ],
            "text/plain": [
              "     status_Y\n",
              "373         0\n",
              "464         0\n",
              "3           1\n",
              "262         0\n",
              "401         0\n",
              "..        ...\n",
              "360         0\n",
              "71          1\n",
              "96          1\n",
              "388         1\n",
              "270         1\n",
              "\n",
              "[159 rows x 1 columns]"
            ]
          },
          "metadata": {
            "tags": []
          },
          "execution_count": 16
        }
      ]
    },
    {
      "cell_type": "code",
      "metadata": {
        "id": "oTUoYFjCQjZf",
        "colab_type": "code",
        "colab": {}
      },
      "source": [
        "from sklearn.linear_model import LogisticRegression"
      ],
      "execution_count": 0,
      "outputs": []
    },
    {
      "cell_type": "code",
      "metadata": {
        "id": "mj003o-JLkzU",
        "colab_type": "code",
        "outputId": "63cde056-3d00-4844-c103-7f9be22391c1",
        "colab": {
          "base_uri": "https://localhost:8080/",
          "height": 154
        }
      },
      "source": [
        "lr=LogisticRegression()\n",
        "lr.fit(X_train,Y_train)"
      ],
      "execution_count": 18,
      "outputs": [
        {
          "output_type": "stream",
          "text": [
            "/usr/local/lib/python3.6/dist-packages/sklearn/utils/validation.py:760: DataConversionWarning: A column-vector y was passed when a 1d array was expected. Please change the shape of y to (n_samples, ), for example using ravel().\n",
            "  y = column_or_1d(y, warn=True)\n"
          ],
          "name": "stderr"
        },
        {
          "output_type": "execute_result",
          "data": {
            "text/plain": [
              "LogisticRegression(C=1.0, class_weight=None, dual=False, fit_intercept=True,\n",
              "                   intercept_scaling=1, l1_ratio=None, max_iter=100,\n",
              "                   multi_class='auto', n_jobs=None, penalty='l2',\n",
              "                   random_state=None, solver='lbfgs', tol=0.0001, verbose=0,\n",
              "                   warm_start=False)"
            ]
          },
          "metadata": {
            "tags": []
          },
          "execution_count": 18
        }
      ]
    },
    {
      "cell_type": "code",
      "metadata": {
        "id": "rySeVHXkQu_f",
        "colab_type": "code",
        "outputId": "13c77e57-8f84-4bd9-ad29-82712dd2b90f",
        "colab": {
          "base_uri": "https://localhost:8080/",
          "height": 151
        }
      },
      "source": [
        "Y_predict=lr.predict(X_test)\n",
        "Y_predict"
      ],
      "execution_count": 19,
      "outputs": [
        {
          "output_type": "execute_result",
          "data": {
            "text/plain": [
              "array([0, 0, 1, 1, 1, 0, 1, 1, 0, 1, 1, 0, 1, 0, 0, 1, 1, 1, 1, 0, 1, 1,\n",
              "       1, 1, 1, 1, 1, 1, 1, 1, 0, 0, 1, 1, 1, 0, 1, 1, 0, 1, 1, 1, 1, 1,\n",
              "       0, 0, 1, 1, 1, 1, 0, 1, 0, 1, 1, 0, 1, 1, 1, 1, 1, 1, 1, 1, 1, 1,\n",
              "       1, 1, 1, 1, 1, 1, 1, 1, 1, 1, 1, 1, 1, 1, 0, 1, 1, 1, 1, 1, 1, 0,\n",
              "       1, 1, 1, 0, 0, 1, 1, 1, 1, 1, 1, 1, 0, 1, 0, 1, 1, 1, 1, 1, 1, 1,\n",
              "       1, 1, 1, 0, 1, 1, 0, 1, 1, 1, 1, 1, 1, 1, 1, 1, 0, 1, 1, 0, 1, 1,\n",
              "       1, 0, 0, 1, 1, 1, 1, 1, 1, 1, 1, 1, 1, 1, 0, 1, 1, 1, 1, 0, 1, 1,\n",
              "       1, 1, 1, 1, 1], dtype=uint8)"
            ]
          },
          "metadata": {
            "tags": []
          },
          "execution_count": 19
        }
      ]
    },
    {
      "cell_type": "markdown",
      "metadata": {
        "id": "Mal97-0dEDmw",
        "colab_type": "text"
      },
      "source": [
        "**Build the confusion matrix and get the accuracy**"
      ]
    },
    {
      "cell_type": "code",
      "metadata": {
        "id": "X6ksh2ib9wac",
        "colab_type": "code",
        "outputId": "eeafcc80-5d78-4fdc-b8de-3f9ba124a50f",
        "colab": {
          "base_uri": "https://localhost:8080/",
          "height": 50
        }
      },
      "source": [
        "from sklearn.metrics import confusion_matrix,classification_report\n",
        "cm=confusion_matrix(Y_test,Y_predict)\n",
        "cm"
      ],
      "execution_count": 20,
      "outputs": [
        {
          "output_type": "execute_result",
          "data": {
            "text/plain": [
              "array([[ 29,  20],\n",
              "       [  2, 108]])"
            ]
          },
          "metadata": {
            "tags": []
          },
          "execution_count": 20
        }
      ]
    },
    {
      "cell_type": "code",
      "metadata": {
        "id": "K8mHVhMYKk1b",
        "colab_type": "code",
        "outputId": "c5e801bf-e30d-4a09-c183-31ca3a9a4340",
        "colab": {
          "base_uri": "https://localhost:8080/",
          "height": 34
        }
      },
      "source": [
        "lr.score(X_test,Y_test)"
      ],
      "execution_count": 21,
      "outputs": [
        {
          "output_type": "execute_result",
          "data": {
            "text/plain": [
              "0.8616352201257862"
            ]
          },
          "metadata": {
            "tags": []
          },
          "execution_count": 21
        }
      ]
    },
    {
      "cell_type": "code",
      "metadata": {
        "id": "lBSoxnD4jYF_",
        "colab_type": "code",
        "colab": {
          "base_uri": "https://localhost:8080/",
          "height": 54
        },
        "outputId": "168a491e-aabb-4880-8446-dfb6abc89040"
      },
      "source": [
        "cr=classification_report(Y_test,Y_predict)\n",
        "cr"
      ],
      "execution_count": 22,
      "outputs": [
        {
          "output_type": "execute_result",
          "data": {
            "text/plain": [
              "'              precision    recall  f1-score   support\\n\\n           0       0.94      0.59      0.72        49\\n           1       0.84      0.98      0.91       110\\n\\n    accuracy                           0.86       159\\n   macro avg       0.89      0.79      0.82       159\\nweighted avg       0.87      0.86      0.85       159\\n'"
            ]
          },
          "metadata": {
            "tags": []
          },
          "execution_count": 22
        }
      ]
    },
    {
      "cell_type": "markdown",
      "metadata": {
        "id": "LkoTgSNZlyMB",
        "colab_type": "text"
      },
      "source": [
        "**Another method to find accuracy score**"
      ]
    },
    {
      "cell_type": "code",
      "metadata": {
        "id": "i8pNzcxfmAVp",
        "colab_type": "code",
        "colab": {
          "base_uri": "https://localhost:8080/",
          "height": 34
        },
        "outputId": "0e2bb9db-720a-417f-d088-1061eb24e41e"
      },
      "source": [
        "from sklearn.metrics import accuracy_score\n",
        "accuracy_score = accuracy_score(Y_test,Y_predict)\n",
        "accuracy_score"
      ],
      "execution_count": 23,
      "outputs": [
        {
          "output_type": "execute_result",
          "data": {
            "text/plain": [
              "0.8616352201257862"
            ]
          },
          "metadata": {
            "tags": []
          },
          "execution_count": 23
        }
      ]
    },
    {
      "cell_type": "markdown",
      "metadata": {
        "id": "rELhkhERkumL",
        "colab_type": "text"
      },
      "source": [
        "**Adjust the probabilities**"
      ]
    },
    {
      "cell_type": "code",
      "metadata": {
        "id": "Mkn3W4fqiXQW",
        "colab_type": "code",
        "colab": {
          "base_uri": "https://localhost:8080/",
          "height": 1000
        },
        "outputId": "409137c6-2d46-476b-9c83-79851c175c89"
      },
      "source": [
        "Y_prob=lr.predict_proba(X_test)\n",
        "Y_prob"
      ],
      "execution_count": 31,
      "outputs": [
        {
          "output_type": "execute_result",
          "data": {
            "text/plain": [
              "array([[0.86794846, 0.13205154],\n",
              "       [0.86443493, 0.13556507],\n",
              "       [0.19414475, 0.80585525],\n",
              "       [0.27107396, 0.72892604],\n",
              "       [0.23631018, 0.76368982],\n",
              "       [0.82637721, 0.17362279],\n",
              "       [0.18825241, 0.81174759],\n",
              "       [0.21904539, 0.78095461],\n",
              "       [0.86651913, 0.13348087],\n",
              "       [0.24450014, 0.75549986],\n",
              "       [0.19014166, 0.80985834],\n",
              "       [0.91793183, 0.08206817],\n",
              "       [0.19108887, 0.80891113],\n",
              "       [0.83636997, 0.16363003],\n",
              "       [0.8315327 , 0.1684673 ],\n",
              "       [0.1860378 , 0.8139622 ],\n",
              "       [0.2118333 , 0.7881667 ],\n",
              "       [0.26285465, 0.73714535],\n",
              "       [0.17715066, 0.82284934],\n",
              "       [0.86055471, 0.13944529],\n",
              "       [0.24147129, 0.75852871],\n",
              "       [0.26301839, 0.73698161],\n",
              "       [0.19001616, 0.80998384],\n",
              "       [0.26038771, 0.73961229],\n",
              "       [0.26337013, 0.73662987],\n",
              "       [0.25646274, 0.74353726],\n",
              "       [0.23048316, 0.76951684],\n",
              "       [0.2812819 , 0.7187181 ],\n",
              "       [0.19627785, 0.80372215],\n",
              "       [0.22128793, 0.77871207],\n",
              "       [0.88259148, 0.11740852],\n",
              "       [0.84020778, 0.15979222],\n",
              "       [0.18629259, 0.81370741],\n",
              "       [0.18695199, 0.81304801],\n",
              "       [0.21829474, 0.78170526],\n",
              "       [0.85646771, 0.14353229],\n",
              "       [0.16965024, 0.83034976],\n",
              "       [0.17711803, 0.82288197],\n",
              "       [0.8233178 , 0.1766822 ],\n",
              "       [0.17294349, 0.82705651],\n",
              "       [0.25473094, 0.74526906],\n",
              "       [0.255614  , 0.744386  ],\n",
              "       [0.19484039, 0.80515961],\n",
              "       [0.17690935, 0.82309065],\n",
              "       [0.87454745, 0.12545255],\n",
              "       [0.90927094, 0.09072906],\n",
              "       [0.17846831, 0.82153169],\n",
              "       [0.25326081, 0.74673919],\n",
              "       [0.19437749, 0.80562251],\n",
              "       [0.16712476, 0.83287524],\n",
              "       [0.81811061, 0.18188939],\n",
              "       [0.18614573, 0.81385427],\n",
              "       [0.83408574, 0.16591426],\n",
              "       [0.21354567, 0.78645433],\n",
              "       [0.21268211, 0.78731789],\n",
              "       [0.81749861, 0.18250139],\n",
              "       [0.2908459 , 0.7091541 ],\n",
              "       [0.22789903, 0.77210097],\n",
              "       [0.20177282, 0.79822718],\n",
              "       [0.21595004, 0.78404996],\n",
              "       [0.25166554, 0.74833446],\n",
              "       [0.19770851, 0.80229149],\n",
              "       [0.25367208, 0.74632792],\n",
              "       [0.20941132, 0.79058868],\n",
              "       [0.2139913 , 0.7860087 ],\n",
              "       [0.21162531, 0.78837469],\n",
              "       [0.16351827, 0.83648173],\n",
              "       [0.24127669, 0.75872331],\n",
              "       [0.2330863 , 0.7669137 ],\n",
              "       [0.22297002, 0.77702998],\n",
              "       [0.23609985, 0.76390015],\n",
              "       [0.30847869, 0.69152131],\n",
              "       [0.23431547, 0.76568453],\n",
              "       [0.19770922, 0.80229078],\n",
              "       [0.27255215, 0.72744785],\n",
              "       [0.19843162, 0.80156838],\n",
              "       [0.2646747 , 0.7353253 ],\n",
              "       [0.28797971, 0.71202029],\n",
              "       [0.19468717, 0.80531283],\n",
              "       [0.20572981, 0.79427019],\n",
              "       [0.82321798, 0.17678202],\n",
              "       [0.26747533, 0.73252467],\n",
              "       [0.19035786, 0.80964214],\n",
              "       [0.23121691, 0.76878309],\n",
              "       [0.17692506, 0.82307494],\n",
              "       [0.22993791, 0.77006209],\n",
              "       [0.18671138, 0.81328862],\n",
              "       [0.80752033, 0.19247967],\n",
              "       [0.18550333, 0.81449667],\n",
              "       [0.19164092, 0.80835908],\n",
              "       [0.19754299, 0.80245701],\n",
              "       [0.85869576, 0.14130424],\n",
              "       [0.82392534, 0.17607466],\n",
              "       [0.22124651, 0.77875349],\n",
              "       [0.22885359, 0.77114641],\n",
              "       [0.29163207, 0.70836793],\n",
              "       [0.18816197, 0.81183803],\n",
              "       [0.25685338, 0.74314662],\n",
              "       [0.19858881, 0.80141119],\n",
              "       [0.19273369, 0.80726631],\n",
              "       [0.81695387, 0.18304613],\n",
              "       [0.27957001, 0.72042999],\n",
              "       [0.82248475, 0.17751525],\n",
              "       [0.18723004, 0.81276996],\n",
              "       [0.24734627, 0.75265373],\n",
              "       [0.19473645, 0.80526355],\n",
              "       [0.23769989, 0.76230011],\n",
              "       [0.28265127, 0.71734873],\n",
              "       [0.17696029, 0.82303971],\n",
              "       [0.16814899, 0.83185101],\n",
              "       [0.18976916, 0.81023084],\n",
              "       [0.33064113, 0.66935887],\n",
              "       [0.18654489, 0.81345511],\n",
              "       [0.8494382 , 0.1505618 ],\n",
              "       [0.24903934, 0.75096066],\n",
              "       [0.19633406, 0.80366594],\n",
              "       [0.87333581, 0.12666419],\n",
              "       [0.26851336, 0.73148664],\n",
              "       [0.20996794, 0.79003206],\n",
              "       [0.1840073 , 0.8159927 ],\n",
              "       [0.22553822, 0.77446178],\n",
              "       [0.21487531, 0.78512469],\n",
              "       [0.22598853, 0.77401147],\n",
              "       [0.1891988 , 0.8108012 ],\n",
              "       [0.17119771, 0.82880229],\n",
              "       [0.2114275 , 0.7885725 ],\n",
              "       [0.89251254, 0.10748746],\n",
              "       [0.26086742, 0.73913258],\n",
              "       [0.19359327, 0.80640673],\n",
              "       [0.84982265, 0.15017735],\n",
              "       [0.23310619, 0.76689381],\n",
              "       [0.21119731, 0.78880269],\n",
              "       [0.20019276, 0.79980724],\n",
              "       [0.84668437, 0.15331563],\n",
              "       [0.88583687, 0.11416313],\n",
              "       [0.19497102, 0.80502898],\n",
              "       [0.19801199, 0.80198801],\n",
              "       [0.25127194, 0.74872806],\n",
              "       [0.26906686, 0.73093314],\n",
              "       [0.2153266 , 0.7846734 ],\n",
              "       [0.23847449, 0.76152551],\n",
              "       [0.24338061, 0.75661939],\n",
              "       [0.19714375, 0.80285625],\n",
              "       [0.26343692, 0.73656308],\n",
              "       [0.2528776 , 0.7471224 ],\n",
              "       [0.19747912, 0.80252088],\n",
              "       [0.831208  , 0.168792  ],\n",
              "       [0.19471522, 0.80528478],\n",
              "       [0.28423094, 0.71576906],\n",
              "       [0.21515866, 0.78484134],\n",
              "       [0.22099851, 0.77900149],\n",
              "       [0.86845991, 0.13154009],\n",
              "       [0.20978208, 0.79021792],\n",
              "       [0.19422211, 0.80577789],\n",
              "       [0.24121005, 0.75878995],\n",
              "       [0.1871472 , 0.8128528 ],\n",
              "       [0.19975269, 0.80024731],\n",
              "       [0.1994974 , 0.8005026 ],\n",
              "       [0.22323955, 0.77676045]])"
            ]
          },
          "metadata": {
            "tags": []
          },
          "execution_count": 31
        }
      ]
    },
    {
      "cell_type": "code",
      "metadata": {
        "id": "W0t6JzSwpciF",
        "colab_type": "code",
        "colab": {
          "base_uri": "https://localhost:8080/",
          "height": 554
        },
        "outputId": "4533ace3-5e3e-4a8a-d875-77a048b398ff"
      },
      "source": [
        "Y_prob=lr.predict_proba(X_test)[:,1]\n",
        "Y_prob"
      ],
      "execution_count": 32,
      "outputs": [
        {
          "output_type": "execute_result",
          "data": {
            "text/plain": [
              "array([0.13205154, 0.13556507, 0.80585525, 0.72892604, 0.76368982,\n",
              "       0.17362279, 0.81174759, 0.78095461, 0.13348087, 0.75549986,\n",
              "       0.80985834, 0.08206817, 0.80891113, 0.16363003, 0.1684673 ,\n",
              "       0.8139622 , 0.7881667 , 0.73714535, 0.82284934, 0.13944529,\n",
              "       0.75852871, 0.73698161, 0.80998384, 0.73961229, 0.73662987,\n",
              "       0.74353726, 0.76951684, 0.7187181 , 0.80372215, 0.77871207,\n",
              "       0.11740852, 0.15979222, 0.81370741, 0.81304801, 0.78170526,\n",
              "       0.14353229, 0.83034976, 0.82288197, 0.1766822 , 0.82705651,\n",
              "       0.74526906, 0.744386  , 0.80515961, 0.82309065, 0.12545255,\n",
              "       0.09072906, 0.82153169, 0.74673919, 0.80562251, 0.83287524,\n",
              "       0.18188939, 0.81385427, 0.16591426, 0.78645433, 0.78731789,\n",
              "       0.18250139, 0.7091541 , 0.77210097, 0.79822718, 0.78404996,\n",
              "       0.74833446, 0.80229149, 0.74632792, 0.79058868, 0.7860087 ,\n",
              "       0.78837469, 0.83648173, 0.75872331, 0.7669137 , 0.77702998,\n",
              "       0.76390015, 0.69152131, 0.76568453, 0.80229078, 0.72744785,\n",
              "       0.80156838, 0.7353253 , 0.71202029, 0.80531283, 0.79427019,\n",
              "       0.17678202, 0.73252467, 0.80964214, 0.76878309, 0.82307494,\n",
              "       0.77006209, 0.81328862, 0.19247967, 0.81449667, 0.80835908,\n",
              "       0.80245701, 0.14130424, 0.17607466, 0.77875349, 0.77114641,\n",
              "       0.70836793, 0.81183803, 0.74314662, 0.80141119, 0.80726631,\n",
              "       0.18304613, 0.72042999, 0.17751525, 0.81276996, 0.75265373,\n",
              "       0.80526355, 0.76230011, 0.71734873, 0.82303971, 0.83185101,\n",
              "       0.81023084, 0.66935887, 0.81345511, 0.1505618 , 0.75096066,\n",
              "       0.80366594, 0.12666419, 0.73148664, 0.79003206, 0.8159927 ,\n",
              "       0.77446178, 0.78512469, 0.77401147, 0.8108012 , 0.82880229,\n",
              "       0.7885725 , 0.10748746, 0.73913258, 0.80640673, 0.15017735,\n",
              "       0.76689381, 0.78880269, 0.79980724, 0.15331563, 0.11416313,\n",
              "       0.80502898, 0.80198801, 0.74872806, 0.73093314, 0.7846734 ,\n",
              "       0.76152551, 0.75661939, 0.80285625, 0.73656308, 0.7471224 ,\n",
              "       0.80252088, 0.168792  , 0.80528478, 0.71576906, 0.78484134,\n",
              "       0.77900149, 0.13154009, 0.79021792, 0.80577789, 0.75878995,\n",
              "       0.8128528 , 0.80024731, 0.8005026 , 0.77676045])"
            ]
          },
          "metadata": {
            "tags": []
          },
          "execution_count": 32
        }
      ]
    },
    {
      "cell_type": "markdown",
      "metadata": {
        "id": "NcjGd1dDm2-W",
        "colab_type": "text"
      },
      "source": [
        "**Classification based on the probability values**"
      ]
    },
    {
      "cell_type": "code",
      "metadata": {
        "id": "ZkhRK4r-mvyT",
        "colab_type": "code",
        "colab": {
          "base_uri": "https://localhost:8080/",
          "height": 1000
        },
        "outputId": "0f7657ab-e2c1-410b-93c7-f918376128a4"
      },
      "source": [
        "Y_new_pred=[]\n",
        "threshold=0.8\n",
        "for i in range(0,len(Y_prob)):\n",
        "  if Y_prob[i] > threshold:\n",
        "    Y_new_pred.append(1)\n",
        "  else:\n",
        "     Y_new_pred.append(0)\n",
        "Y_new_pred\n"
      ],
      "execution_count": 33,
      "outputs": [
        {
          "output_type": "execute_result",
          "data": {
            "text/plain": [
              "[0,\n",
              " 0,\n",
              " 1,\n",
              " 0,\n",
              " 0,\n",
              " 0,\n",
              " 1,\n",
              " 0,\n",
              " 0,\n",
              " 0,\n",
              " 1,\n",
              " 0,\n",
              " 1,\n",
              " 0,\n",
              " 0,\n",
              " 1,\n",
              " 0,\n",
              " 0,\n",
              " 1,\n",
              " 0,\n",
              " 0,\n",
              " 0,\n",
              " 1,\n",
              " 0,\n",
              " 0,\n",
              " 0,\n",
              " 0,\n",
              " 0,\n",
              " 1,\n",
              " 0,\n",
              " 0,\n",
              " 0,\n",
              " 1,\n",
              " 1,\n",
              " 0,\n",
              " 0,\n",
              " 1,\n",
              " 1,\n",
              " 0,\n",
              " 1,\n",
              " 0,\n",
              " 0,\n",
              " 1,\n",
              " 1,\n",
              " 0,\n",
              " 0,\n",
              " 1,\n",
              " 0,\n",
              " 1,\n",
              " 1,\n",
              " 0,\n",
              " 1,\n",
              " 0,\n",
              " 0,\n",
              " 0,\n",
              " 0,\n",
              " 0,\n",
              " 0,\n",
              " 0,\n",
              " 0,\n",
              " 0,\n",
              " 1,\n",
              " 0,\n",
              " 0,\n",
              " 0,\n",
              " 0,\n",
              " 1,\n",
              " 0,\n",
              " 0,\n",
              " 0,\n",
              " 0,\n",
              " 0,\n",
              " 0,\n",
              " 1,\n",
              " 0,\n",
              " 1,\n",
              " 0,\n",
              " 0,\n",
              " 1,\n",
              " 0,\n",
              " 0,\n",
              " 0,\n",
              " 1,\n",
              " 0,\n",
              " 1,\n",
              " 0,\n",
              " 1,\n",
              " 0,\n",
              " 1,\n",
              " 1,\n",
              " 1,\n",
              " 0,\n",
              " 0,\n",
              " 0,\n",
              " 0,\n",
              " 0,\n",
              " 1,\n",
              " 0,\n",
              " 1,\n",
              " 1,\n",
              " 0,\n",
              " 0,\n",
              " 0,\n",
              " 1,\n",
              " 0,\n",
              " 1,\n",
              " 0,\n",
              " 0,\n",
              " 1,\n",
              " 1,\n",
              " 1,\n",
              " 0,\n",
              " 1,\n",
              " 0,\n",
              " 0,\n",
              " 1,\n",
              " 0,\n",
              " 0,\n",
              " 0,\n",
              " 1,\n",
              " 0,\n",
              " 0,\n",
              " 0,\n",
              " 1,\n",
              " 1,\n",
              " 0,\n",
              " 0,\n",
              " 0,\n",
              " 1,\n",
              " 0,\n",
              " 0,\n",
              " 0,\n",
              " 0,\n",
              " 0,\n",
              " 0,\n",
              " 1,\n",
              " 1,\n",
              " 0,\n",
              " 0,\n",
              " 0,\n",
              " 0,\n",
              " 0,\n",
              " 1,\n",
              " 0,\n",
              " 0,\n",
              " 1,\n",
              " 0,\n",
              " 1,\n",
              " 0,\n",
              " 0,\n",
              " 0,\n",
              " 0,\n",
              " 0,\n",
              " 1,\n",
              " 0,\n",
              " 1,\n",
              " 1,\n",
              " 1,\n",
              " 0]"
            ]
          },
          "metadata": {
            "tags": []
          },
          "execution_count": 33
        }
      ]
    },
    {
      "cell_type": "markdown",
      "metadata": {
        "id": "t_Yn43QRpVCq",
        "colab_type": "text"
      },
      "source": [
        "get the metrics"
      ]
    },
    {
      "cell_type": "code",
      "metadata": {
        "id": "QevayeZcpTxm",
        "colab_type": "code",
        "colab": {
          "base_uri": "https://localhost:8080/",
          "height": 54
        },
        "outputId": "768aa428-a77c-4bdc-a8f2-3a398c621e72"
      },
      "source": [
        "cm2=confusion_matrix(Y_test,Y_new_pred)\n",
        "score2=lr.score(X_test,Y_test)\n",
        "cm2=classification_report(Y_test,Y_new_pred)\n",
        "score2=lr.score(X_test,Y_new_pred)\n",
        "cr2=classification_report(Y_test,Y_new_pred)\n",
        "cr2"
      ],
      "execution_count": 34,
      "outputs": [
        {
          "output_type": "execute_result",
          "data": {
            "text/plain": [
              "'              precision    recall  f1-score   support\\n\\n           0       0.43      0.94      0.59        49\\n           1       0.94      0.45      0.61       110\\n\\n    accuracy                           0.60       159\\n   macro avg       0.69      0.70      0.60       159\\nweighted avg       0.79      0.60      0.61       159\\n'"
            ]
          },
          "metadata": {
            "tags": []
          },
          "execution_count": 34
        }
      ]
    },
    {
      "cell_type": "markdown",
      "metadata": {
        "id": "v1TGezdjsrq1",
        "colab_type": "text"
      },
      "source": [
        "**Understand and implement roc auc curve**"
      ]
    },
    {
      "cell_type": "code",
      "metadata": {
        "id": "AjKY_NGrsyX8",
        "colab_type": "code",
        "colab": {}
      },
      "source": [
        "from sklearn.metrics import roc_curve,roc_auc_score\n",
        "fpr,tpr,threshold = roc_curve(Y_test,Y_prob)\n",
        "auc=roc_auc_score(Y_test,Y_prob)"
      ],
      "execution_count": 0,
      "outputs": []
    },
    {
      "cell_type": "markdown",
      "metadata": {
        "id": "kOsogeSwudWU",
        "colab_type": "text"
      },
      "source": [
        "**plot the roc curve**"
      ]
    },
    {
      "cell_type": "code",
      "metadata": {
        "id": "xL-2d4rmucEP",
        "colab_type": "code",
        "colab": {
          "base_uri": "https://localhost:8080/",
          "height": 312
        },
        "outputId": "a7117e33-2f1e-415c-f636-967ec090348c"
      },
      "source": [
        "import matplotlib.pyplot as plt\n",
        "plt.plot(fpr,tpr,linewidth=4)\n",
        "plt.xlabel(\"False Positive rate\")\n",
        "plt.ylabel(\"True Positive rate\")\n",
        "plt.title(\"Roc curve for loan prediction\")"
      ],
      "execution_count": 36,
      "outputs": [
        {
          "output_type": "execute_result",
          "data": {
            "text/plain": [
              "Text(0.5, 1.0, 'Roc curve for loan prediction')"
            ]
          },
          "metadata": {
            "tags": []
          },
          "execution_count": 36
        },
        {
          "output_type": "display_data",
          "data": {
            "image/png": "[encoded data removed]",
            "text/plain": [
              "<Figure size 432x288 with 1 Axes>"
            ]
          },
          "metadata": {
            "tags": [],
            "needs_background": "light"
          }
        }
      ]
    }
  ]
}